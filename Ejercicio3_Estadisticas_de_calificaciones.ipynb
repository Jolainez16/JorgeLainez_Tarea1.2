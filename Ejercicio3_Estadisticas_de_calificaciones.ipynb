{
  "nbformat": 4,
  "nbformat_minor": 0,
  "metadata": {
    "colab": {
      "provenance": []
    },
    "kernelspec": {
      "name": "python3",
      "display_name": "Python 3"
    },
    "language_info": {
      "name": "python"
    }
  },
  "cells": [
    {
      "cell_type": "code",
      "execution_count": null,
      "metadata": {
        "colab": {
          "base_uri": "https://localhost:8080/",
          "height": 206
        },
        "id": "gGiTo3CEz2na",
        "outputId": "9a5791c1-6e49-4824-b1d1-569ff7168840"
      },
      "outputs": [
        {
          "output_type": "execute_result",
          "data": {
            "text/plain": [
              "      Estudiante      Materia  Calificación\n",
              "0   Estudiante_7         Arte            99\n",
              "1  Estudiante_51  Matemáticas            55\n",
              "2  Estudiante_72  Matemáticas            58\n",
              "3  Estudiante_42  Matemáticas            82\n",
              "4  Estudiante_64       Inglés            90"
            ],
            "text/html": [
              "\n",
              "  <div id=\"df-cad08283-37e6-46f2-aa55-95462ca3ae9c\" class=\"colab-df-container\">\n",
              "    <div>\n",
              "<style scoped>\n",
              "    .dataframe tbody tr th:only-of-type {\n",
              "        vertical-align: middle;\n",
              "    }\n",
              "\n",
              "    .dataframe tbody tr th {\n",
              "        vertical-align: top;\n",
              "    }\n",
              "\n",
              "    .dataframe thead th {\n",
              "        text-align: right;\n",
              "    }\n",
              "</style>\n",
              "<table border=\"1\" class=\"dataframe\">\n",
              "  <thead>\n",
              "    <tr style=\"text-align: right;\">\n",
              "      <th></th>\n",
              "      <th>Estudiante</th>\n",
              "      <th>Materia</th>\n",
              "      <th>Calificación</th>\n",
              "    </tr>\n",
              "  </thead>\n",
              "  <tbody>\n",
              "    <tr>\n",
              "      <th>0</th>\n",
              "      <td>Estudiante_7</td>\n",
              "      <td>Arte</td>\n",
              "      <td>99</td>\n",
              "    </tr>\n",
              "    <tr>\n",
              "      <th>1</th>\n",
              "      <td>Estudiante_51</td>\n",
              "      <td>Matemáticas</td>\n",
              "      <td>55</td>\n",
              "    </tr>\n",
              "    <tr>\n",
              "      <th>2</th>\n",
              "      <td>Estudiante_72</td>\n",
              "      <td>Matemáticas</td>\n",
              "      <td>58</td>\n",
              "    </tr>\n",
              "    <tr>\n",
              "      <th>3</th>\n",
              "      <td>Estudiante_42</td>\n",
              "      <td>Matemáticas</td>\n",
              "      <td>82</td>\n",
              "    </tr>\n",
              "    <tr>\n",
              "      <th>4</th>\n",
              "      <td>Estudiante_64</td>\n",
              "      <td>Inglés</td>\n",
              "      <td>90</td>\n",
              "    </tr>\n",
              "  </tbody>\n",
              "</table>\n",
              "</div>\n",
              "    <div class=\"colab-df-buttons\">\n",
              "\n",
              "  <div class=\"colab-df-container\">\n",
              "    <button class=\"colab-df-convert\" onclick=\"convertToInteractive('df-cad08283-37e6-46f2-aa55-95462ca3ae9c')\"\n",
              "            title=\"Convert this dataframe to an interactive table.\"\n",
              "            style=\"display:none;\">\n",
              "\n",
              "  <svg xmlns=\"http://www.w3.org/2000/svg\" height=\"24px\" viewBox=\"0 -960 960 960\">\n",
              "    <path d=\"M120-120v-720h720v720H120Zm60-500h600v-160H180v160Zm220 220h160v-160H400v160Zm0 220h160v-160H400v160ZM180-400h160v-160H180v160Zm440 0h160v-160H620v160ZM180-180h160v-160H180v160Zm440 0h160v-160H620v160Z\"/>\n",
              "  </svg>\n",
              "    </button>\n",
              "\n",
              "  <style>\n",
              "    .colab-df-container {\n",
              "      display:flex;\n",
              "      gap: 12px;\n",
              "    }\n",
              "\n",
              "    .colab-df-convert {\n",
              "      background-color: #E8F0FE;\n",
              "      border: none;\n",
              "      border-radius: 50%;\n",
              "      cursor: pointer;\n",
              "      display: none;\n",
              "      fill: #1967D2;\n",
              "      height: 32px;\n",
              "      padding: 0 0 0 0;\n",
              "      width: 32px;\n",
              "    }\n",
              "\n",
              "    .colab-df-convert:hover {\n",
              "      background-color: #E2EBFA;\n",
              "      box-shadow: 0px 1px 2px rgba(60, 64, 67, 0.3), 0px 1px 3px 1px rgba(60, 64, 67, 0.15);\n",
              "      fill: #174EA6;\n",
              "    }\n",
              "\n",
              "    .colab-df-buttons div {\n",
              "      margin-bottom: 4px;\n",
              "    }\n",
              "\n",
              "    [theme=dark] .colab-df-convert {\n",
              "      background-color: #3B4455;\n",
              "      fill: #D2E3FC;\n",
              "    }\n",
              "\n",
              "    [theme=dark] .colab-df-convert:hover {\n",
              "      background-color: #434B5C;\n",
              "      box-shadow: 0px 1px 3px 1px rgba(0, 0, 0, 0.15);\n",
              "      filter: drop-shadow(0px 1px 2px rgba(0, 0, 0, 0.3));\n",
              "      fill: #FFFFFF;\n",
              "    }\n",
              "  </style>\n",
              "\n",
              "    <script>\n",
              "      const buttonEl =\n",
              "        document.querySelector('#df-cad08283-37e6-46f2-aa55-95462ca3ae9c button.colab-df-convert');\n",
              "      buttonEl.style.display =\n",
              "        google.colab.kernel.accessAllowed ? 'block' : 'none';\n",
              "\n",
              "      async function convertToInteractive(key) {\n",
              "        const element = document.querySelector('#df-cad08283-37e6-46f2-aa55-95462ca3ae9c');\n",
              "        const dataTable =\n",
              "          await google.colab.kernel.invokeFunction('convertToInteractive',\n",
              "                                                    [key], {});\n",
              "        if (!dataTable) return;\n",
              "\n",
              "        const docLinkHtml = 'Like what you see? Visit the ' +\n",
              "          '<a target=\"_blank\" href=https://colab.research.google.com/notebooks/data_table.ipynb>data table notebook</a>'\n",
              "          + ' to learn more about interactive tables.';\n",
              "        element.innerHTML = '';\n",
              "        dataTable['output_type'] = 'display_data';\n",
              "        await google.colab.output.renderOutput(dataTable, element);\n",
              "        const docLink = document.createElement('div');\n",
              "        docLink.innerHTML = docLinkHtml;\n",
              "        element.appendChild(docLink);\n",
              "      }\n",
              "    </script>\n",
              "  </div>\n",
              "\n",
              "\n",
              "<div id=\"df-1892275a-175f-4fa2-9626-d48a53ebc235\">\n",
              "  <button class=\"colab-df-quickchart\" onclick=\"quickchart('df-1892275a-175f-4fa2-9626-d48a53ebc235')\"\n",
              "            title=\"Suggest charts\"\n",
              "            style=\"display:none;\">\n",
              "\n",
              "<svg xmlns=\"http://www.w3.org/2000/svg\" height=\"24px\"viewBox=\"0 0 24 24\"\n",
              "     width=\"24px\">\n",
              "    <g>\n",
              "        <path d=\"M19 3H5c-1.1 0-2 .9-2 2v14c0 1.1.9 2 2 2h14c1.1 0 2-.9 2-2V5c0-1.1-.9-2-2-2zM9 17H7v-7h2v7zm4 0h-2V7h2v10zm4 0h-2v-4h2v4z\"/>\n",
              "    </g>\n",
              "</svg>\n",
              "  </button>\n",
              "\n",
              "<style>\n",
              "  .colab-df-quickchart {\n",
              "      --bg-color: #E8F0FE;\n",
              "      --fill-color: #1967D2;\n",
              "      --hover-bg-color: #E2EBFA;\n",
              "      --hover-fill-color: #174EA6;\n",
              "      --disabled-fill-color: #AAA;\n",
              "      --disabled-bg-color: #DDD;\n",
              "  }\n",
              "\n",
              "  [theme=dark] .colab-df-quickchart {\n",
              "      --bg-color: #3B4455;\n",
              "      --fill-color: #D2E3FC;\n",
              "      --hover-bg-color: #434B5C;\n",
              "      --hover-fill-color: #FFFFFF;\n",
              "      --disabled-bg-color: #3B4455;\n",
              "      --disabled-fill-color: #666;\n",
              "  }\n",
              "\n",
              "  .colab-df-quickchart {\n",
              "    background-color: var(--bg-color);\n",
              "    border: none;\n",
              "    border-radius: 50%;\n",
              "    cursor: pointer;\n",
              "    display: none;\n",
              "    fill: var(--fill-color);\n",
              "    height: 32px;\n",
              "    padding: 0;\n",
              "    width: 32px;\n",
              "  }\n",
              "\n",
              "  .colab-df-quickchart:hover {\n",
              "    background-color: var(--hover-bg-color);\n",
              "    box-shadow: 0 1px 2px rgba(60, 64, 67, 0.3), 0 1px 3px 1px rgba(60, 64, 67, 0.15);\n",
              "    fill: var(--button-hover-fill-color);\n",
              "  }\n",
              "\n",
              "  .colab-df-quickchart-complete:disabled,\n",
              "  .colab-df-quickchart-complete:disabled:hover {\n",
              "    background-color: var(--disabled-bg-color);\n",
              "    fill: var(--disabled-fill-color);\n",
              "    box-shadow: none;\n",
              "  }\n",
              "\n",
              "  .colab-df-spinner {\n",
              "    border: 2px solid var(--fill-color);\n",
              "    border-color: transparent;\n",
              "    border-bottom-color: var(--fill-color);\n",
              "    animation:\n",
              "      spin 1s steps(1) infinite;\n",
              "  }\n",
              "\n",
              "  @keyframes spin {\n",
              "    0% {\n",
              "      border-color: transparent;\n",
              "      border-bottom-color: var(--fill-color);\n",
              "      border-left-color: var(--fill-color);\n",
              "    }\n",
              "    20% {\n",
              "      border-color: transparent;\n",
              "      border-left-color: var(--fill-color);\n",
              "      border-top-color: var(--fill-color);\n",
              "    }\n",
              "    30% {\n",
              "      border-color: transparent;\n",
              "      border-left-color: var(--fill-color);\n",
              "      border-top-color: var(--fill-color);\n",
              "      border-right-color: var(--fill-color);\n",
              "    }\n",
              "    40% {\n",
              "      border-color: transparent;\n",
              "      border-right-color: var(--fill-color);\n",
              "      border-top-color: var(--fill-color);\n",
              "    }\n",
              "    60% {\n",
              "      border-color: transparent;\n",
              "      border-right-color: var(--fill-color);\n",
              "    }\n",
              "    80% {\n",
              "      border-color: transparent;\n",
              "      border-right-color: var(--fill-color);\n",
              "      border-bottom-color: var(--fill-color);\n",
              "    }\n",
              "    90% {\n",
              "      border-color: transparent;\n",
              "      border-bottom-color: var(--fill-color);\n",
              "    }\n",
              "  }\n",
              "</style>\n",
              "\n",
              "  <script>\n",
              "    async function quickchart(key) {\n",
              "      const quickchartButtonEl =\n",
              "        document.querySelector('#' + key + ' button');\n",
              "      quickchartButtonEl.disabled = true;  // To prevent multiple clicks.\n",
              "      quickchartButtonEl.classList.add('colab-df-spinner');\n",
              "      try {\n",
              "        const charts = await google.colab.kernel.invokeFunction(\n",
              "            'suggestCharts', [key], {});\n",
              "      } catch (error) {\n",
              "        console.error('Error during call to suggestCharts:', error);\n",
              "      }\n",
              "      quickchartButtonEl.classList.remove('colab-df-spinner');\n",
              "      quickchartButtonEl.classList.add('colab-df-quickchart-complete');\n",
              "    }\n",
              "    (() => {\n",
              "      let quickchartButtonEl =\n",
              "        document.querySelector('#df-1892275a-175f-4fa2-9626-d48a53ebc235 button');\n",
              "      quickchartButtonEl.style.display =\n",
              "        google.colab.kernel.accessAllowed ? 'block' : 'none';\n",
              "    })();\n",
              "  </script>\n",
              "</div>\n",
              "\n",
              "    </div>\n",
              "  </div>\n"
            ],
            "application/vnd.google.colaboratory.intrinsic+json": {
              "type": "dataframe",
              "variable_name": "df",
              "summary": "{\n  \"name\": \"df\",\n  \"rows\": 500,\n  \"fields\": [\n    {\n      \"column\": \"Estudiante\",\n      \"properties\": {\n        \"dtype\": \"category\",\n        \"num_unique_values\": 99,\n        \"samples\": [\n          \"Estudiante_75\",\n          \"Estudiante_90\",\n          \"Estudiante_58\"\n        ],\n        \"semantic_type\": \"\",\n        \"description\": \"\"\n      }\n    },\n    {\n      \"column\": \"Materia\",\n      \"properties\": {\n        \"dtype\": \"category\",\n        \"num_unique_values\": 5,\n        \"samples\": [\n          \"Matem\\u00e1ticas\",\n          \"Historia\",\n          \"Ingl\\u00e9s\"\n        ],\n        \"semantic_type\": \"\",\n        \"description\": \"\"\n      }\n    },\n    {\n      \"column\": \"Calificaci\\u00f3n\",\n      \"properties\": {\n        \"dtype\": \"number\",\n        \"std\": 14,\n        \"min\": 50,\n        \"max\": 99,\n        \"num_unique_values\": 50,\n        \"samples\": [\n          95,\n          92,\n          57\n        ],\n        \"semantic_type\": \"\",\n        \"description\": \"\"\n      }\n    }\n  ]\n}"
            }
          },
          "metadata": {},
          "execution_count": 1
        }
      ],
      "source": [
        "#Ejercicio3 Estadisticas de calificaciones\n",
        "\n",
        "import pandas as pd\n",
        "import numpy as np\n",
        "\n",
        "#1.Cargue el dataset y muestre las primeras filas.\n",
        "df = pd.read_csv('./calificaciones.csv')\n",
        "\n",
        "df.head()"
      ]
    },
    {
      "cell_type": "code",
      "source": [
        "#2.Calcular el promedio de calificaciones por materia\n",
        "\n",
        "promedio_calificaciones = df.groupby('Materia')['Calificación'].mean().reset_index()\n",
        "promedio_calificaciones.columns = ['Materia', 'promedio_calificación']\n",
        "\n",
        "print(promedio_calificaciones)"
      ],
      "metadata": {
        "colab": {
          "base_uri": "https://localhost:8080/"
        },
        "id": "in6dnmpBz_i8",
        "outputId": "afdd0758-1bc2-4f15-dc9f-f11f4b52ef68"
      },
      "execution_count": null,
      "outputs": [
        {
          "output_type": "stream",
          "name": "stdout",
          "text": [
            "       Materia  promedio_calificación\n",
            "0         Arte              74.823529\n",
            "1     Ciencias              73.712766\n",
            "2     Historia              73.087379\n",
            "3       Inglés              72.740385\n",
            "4  Matemáticas              73.659794\n"
          ]
        }
      ]
    },
    {
      "cell_type": "code",
      "source": [
        "#3.Estudiante con el promedio mas alto\n",
        "\n",
        "promedio_por_estudiante = df.groupby('Estudiante')['Calificación'].mean().reset_index()\n",
        "promedio_por_estudiante.columns = ['Estudiante', 'promedio_calificacion']\n",
        "estudiante_maximo = promedio_por_estudiante.loc[promedio_por_estudiante['promedio_calificacion'].idxmax()]\n",
        "\n",
        "print(\"El estudiante con el promedio más alto es\\n\" ,estudiante_maximo)"
      ],
      "metadata": {
        "colab": {
          "base_uri": "https://localhost:8080/"
        },
        "id": "6rTHgtBmz_rt",
        "outputId": "f9cdec33-cc92-4408-8129-185a9d868b0b"
      },
      "execution_count": null,
      "outputs": [
        {
          "output_type": "stream",
          "name": "stdout",
          "text": [
            "El estudiante con el promedio más alto es\n",
            " Estudiante               Estudiante_84\n",
            "promedio_calificacion             96.0\n",
            "Name: 82, dtype: object\n"
          ]
        }
      ]
    },
    {
      "cell_type": "code",
      "source": [
        "#4.Agrupa las calificaciones por estudiante y calcule el promedio de cada uno.\n",
        "\n",
        "promedio_calificaciones = df.groupby('Estudiante')['Calificación'].mean().reset_index()\n",
        "promedio_calificaciones.columns = ['Estudiante', 'promedio_calificacion']\n",
        "\n",
        "print(promedio_calificaciones)"
      ],
      "metadata": {
        "colab": {
          "base_uri": "https://localhost:8080/"
        },
        "id": "DK7GXKHVz_4s",
        "outputId": "b4db04c9-be19-417f-f840-6421e18c6262"
      },
      "execution_count": null,
      "outputs": [
        {
          "output_type": "stream",
          "name": "stdout",
          "text": [
            "        Estudiante  promedio_calificacion\n",
            "0     Estudiante_1              79.428571\n",
            "1    Estudiante_10              80.600000\n",
            "2   Estudiante_100              60.000000\n",
            "3    Estudiante_11              75.000000\n",
            "4    Estudiante_12              65.000000\n",
            "..             ...                    ...\n",
            "94   Estudiante_95              85.500000\n",
            "95   Estudiante_96              59.500000\n",
            "96   Estudiante_97              86.400000\n",
            "97   Estudiante_98              76.571429\n",
            "98   Estudiante_99              67.000000\n",
            "\n",
            "[99 rows x 2 columns]\n"
          ]
        }
      ]
    },
    {
      "cell_type": "code",
      "source": [
        "#5.Identifique cuántos estudiantes tienen un promedio superior a 85\n",
        "\n",
        "promedio_calificaciones = df.groupby('Estudiante')['Calificación'].mean().reset_index()\n",
        "promedio_calificaciones.columns = ['Estudiante', 'promedio_calificacion']\n",
        "estudiantes_superior_85 = promedio_calificaciones[promedio_calificaciones['promedio_calificacion'] > 85]\n",
        "numero_estudiantes_superior_85 = len(estudiantes_superior_85)\n",
        "\n",
        "print(\"Número de estudiantes con un promedio superior a 85:\", numero_estudiantes_superior_85)\n"
      ],
      "metadata": {
        "colab": {
          "base_uri": "https://localhost:8080/"
        },
        "id": "VZzXdfYyz_9n",
        "outputId": "548f879f-5013-4e2e-c1aa-777b2f09562c"
      },
      "execution_count": null,
      "outputs": [
        {
          "output_type": "stream",
          "name": "stdout",
          "text": [
            "Número de estudiantes con un promedio superior a 85: 5\n"
          ]
        }
      ]
    },
    {
      "cell_type": "code",
      "source": [
        "#6.Encuentre la materia con la mayor cantidad de calificaciones registradas.\n",
        "\n",
        "cantidad_calificaciones_por_materia = df['Materia'].value_counts().reset_index()\n",
        "cantidad_calificaciones_por_materia.columns = ['Materia', 'cantidad_calificaciones']\n",
        "materia_max_calificaciones = cantidad_calificaciones_por_materia.loc[cantidad_calificaciones_por_materia['cantidad_calificaciones'].idxmax()]\n",
        "\n",
        "print(\"La materia con la mayor cantidad de calificaciones registradas es\\n\" ,materia_max_calificaciones)"
      ],
      "metadata": {
        "colab": {
          "base_uri": "https://localhost:8080/"
        },
        "id": "lRC8tZ900AAq",
        "outputId": "822be143-2067-4ed2-f361-52824d64724f"
      },
      "execution_count": null,
      "outputs": [
        {
          "output_type": "stream",
          "name": "stdout",
          "text": [
            "La materia con la mayor cantidad de calificaciones registradas es\n",
            " Materia                    Inglés\n",
            "cantidad_calificaciones       104\n",
            "Name: 0, dtype: object\n"
          ]
        }
      ]
    },
    {
      "cell_type": "code",
      "source": [
        "#7.Muestre los 5 estudiantes con el promedio más bajo\n",
        "\n",
        "promedio_calificaciones = df.groupby('Estudiante')['Calificación'].mean().reset_index()\n",
        "promedio_calificaciones.columns = ['Estudiante', 'promedio_calificacion']\n",
        "promedio_calificaciones = promedio_calificaciones.sort_values(by='promedio_calificacion')\n",
        "estudiantes_bajos_promedios = promedio_calificaciones.head(5)\n",
        "\n",
        "print(\"Los 5 estudiantes con el promedio más bajo son:\\n\", estudiantes_bajos_promedios)\n"
      ],
      "metadata": {
        "colab": {
          "base_uri": "https://localhost:8080/"
        },
        "id": "4y7BK0tA0AEH",
        "outputId": "1eef2d26-00ce-4323-eaa4-97a88cba7f10"
      },
      "execution_count": null,
      "outputs": [
        {
          "output_type": "stream",
          "name": "stdout",
          "text": [
            "Los 5 estudiantes con el promedio más bajo son:\n",
            "        Estudiante  promedio_calificacion\n",
            "76  Estudiante_79                   51.0\n",
            "54  Estudiante_58                   57.0\n",
            "90  Estudiante_91                   58.0\n",
            "46  Estudiante_50                   59.0\n",
            "78  Estudiante_80                   59.0\n"
          ]
        }
      ]
    }
  ]
}